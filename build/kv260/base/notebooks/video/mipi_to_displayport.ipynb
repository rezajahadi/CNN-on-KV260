{
 "cells": [
  {
   "cell_type": "markdown",
   "metadata": {},
   "source": [
    "# Display MIPI input on Display Port output\n",
    "---"
   ]
  },
  {
   "cell_type": "markdown",
   "metadata": {},
   "source": [
    "## Aim\n",
    "\n",
    "* This notebook illustrates how to setup a MIPI camera (Digilent Pcam 5C) and route what is seen by the camera to the Display Port. \n",
    "\n",
    "## References\n",
    "* [Digilent Pcam 5C Camera](https://reference.digilentinc.com/reference/add-ons/pcam-5c/start)    \n",
    "\n",
    "## Revision History\n",
    "\n",
    "* Initial Release\n",
    "* 30 April 2021 | Use updated API\n",
    "\n",
    "---"
   ]
  },
  {
   "cell_type": "markdown",
   "metadata": {},
   "source": [
    "## Load _base_ Overlay, import video and image libraries"
   ]
  },
  {
   "cell_type": "code",
   "execution_count": null,
   "metadata": {},
   "outputs": [],
   "source": [
    "from kv260 import BaseOverlay\n",
    "from pynq.lib.video import *\n",
    "import PIL.Image\n",
    "\n",
    "base = BaseOverlay(\"base.bit\")"
   ]
  },
  {
   "cell_type": "markdown",
   "metadata": {},
   "source": [
    "## Initialize and setup the MIPI camera\n",
    "Grab a handler to the MIPI hierarchy, this will initialize the camera"
   ]
  },
  {
   "cell_type": "code",
   "execution_count": null,
   "metadata": {},
   "outputs": [],
   "source": [
    "mipi = base.mipi"
   ]
  },
  {
   "cell_type": "markdown",
   "metadata": {},
   "source": [
    "Setup the camera for 1280x720 mode with 24-bits pixel. Start reading from the camera."
   ]
  },
  {
   "cell_type": "code",
   "execution_count": null,
   "metadata": {},
   "outputs": [],
   "source": [
    "videomode = VideoMode(1280, 720, 24)\n",
    "\n",
    "mipi.configure(videomode)\n",
    "\n",
    "mipi.start()"
   ]
  },
  {
   "cell_type": "markdown",
   "metadata": {},
   "source": [
    "Grab a frame and display in the notebook. \n",
    "\n",
    "Note that the channels are arranged differently that what PIL expects, for that reason we reorder them "
   ]
  },
  {
   "cell_type": "code",
   "execution_count": null,
   "metadata": {},
   "outputs": [],
   "source": [
    "frame = mipi.readframe()\n",
    "PIL.Image.fromarray(frame[:,:,[2,1,0]])"
   ]
  },
  {
   "cell_type": "markdown",
   "metadata": {},
   "source": [
    "## Start the Display Port"
   ]
  },
  {
   "cell_type": "markdown",
   "metadata": {},
   "source": [
    "Next we create a `DisplayPort` object and configure it with the resolution and pixel format we would like."
   ]
  },
  {
   "cell_type": "code",
   "execution_count": null,
   "metadata": {},
   "outputs": [],
   "source": [
    "displayport = DisplayPort()\n",
    "\n",
    "displayport.configure(videomode, PIXEL_RGB)"
   ]
  },
  {
   "cell_type": "markdown",
   "metadata": {},
   "source": [
    "Read and display 200 frames"
   ]
  },
  {
   "cell_type": "code",
   "execution_count": null,
   "metadata": {},
   "outputs": [],
   "source": [
    "import time\n",
    "num_frames = 200\n",
    "start = time.time()\n",
    "\n",
    "for _ in range (num_frames):\n",
    "    frame = displayport.newframe()\n",
    "    frame[:] = mipi.readframe()\n",
    "    displayport.writeframe(frame)\n",
    "\n",
    "end = time.time()\n",
    "duration = end - start\n",
    "print(f\"Took {duration} seconds at {num_frames / duration} FPS\")"
   ]
  },
  {
   "cell_type": "markdown",
   "metadata": {},
   "source": [
    "## Cleanup Display Port and MIPI camera buffer\n",
    "\n",
    "Close display port, stop MIPI camera and free the overlay"
   ]
  },
  {
   "cell_type": "code",
   "execution_count": null,
   "metadata": {},
   "outputs": [],
   "source": [
    "displayport.close()\n",
    "\n",
    "mipi.stop()\n",
    "\n",
    "base.free()"
   ]
  },
  {
   "cell_type": "markdown",
   "metadata": {},
   "source": [
    "----\n",
    "Copyright &copy; 2021 Xilinx, Inc\n",
    "\n",
    "SPDX-License-Identifier: BSD-3-Clause\n"
   ]
  }
 ],
 "metadata": {
  "kernelspec": {
   "display_name": "Python 3",
   "language": "python",
   "name": "python3"
  },
  "language_info": {
   "codemirror_mode": {
    "name": "ipython",
    "version": 3
   },
   "file_extension": ".py",
   "mimetype": "text/x-python",
   "name": "python",
   "nbconvert_exporter": "python",
   "pygments_lexer": "ipython3",
   "version": "3.8.10"
  }
 },
 "nbformat": 4,
 "nbformat_minor": 4
}
